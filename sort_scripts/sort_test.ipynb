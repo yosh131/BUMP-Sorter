{
 "cells": [
  {
   "cell_type": "code",
   "execution_count": 19,
   "metadata": {},
   "outputs": [
    {
     "name": "stdout",
     "output_type": "stream",
     "text": [
      "[88 98 61 38 60 20 77 86 63 81 34 76 82 94 46 99 81 42 96 77  5 45 24 28\n",
      " 76 90 46  1  4  1]\n",
      "[99 98 94 96 81 90 77 86 88 77 45 76 82 61 46 38 81 42 63 60  5 34 24 28\n",
      " 76 20 46  1  4  1]\n",
      "[99 98 94 96 81 90 77 86 88 77 45 76 82 61 46 38 81 42 63 60  5 34 24 28\n",
      " 76 20 46  1  4  1]\n",
      "49\n"
     ]
    }
   ],
   "source": [
    "import numpy as np\n",
    "\n",
    "cnt_cmp = 0\n",
    "def build_max_heap(arr, cmp_func):\n",
    "    L = len(arr)\n",
    "    for i in reversed(range(L//2)):\n",
    "        max_heapify(arr, i, cmp_func)\n",
    "    return arr\n",
    "\n",
    "def max_heapify(arr, i, cmp_func):\n",
    "    left = 2*i + 1\n",
    "    right = 2*i + 2\n",
    "    length = len(arr)\n",
    "    max_idx = i\n",
    "    # print(i, arr[i])\n",
    "    if left<length and (cmp_func(arr[left], arr[i])):\n",
    "        # print(arr[left])\n",
    "        max_idx = left\n",
    "    if right<length and (cmp_func(arr[right], arr[max_idx])):\n",
    "        # print(arr[right])\n",
    "        max_idx = right\n",
    "    if max_idx != i:\n",
    "        arr[i], arr[max_idx] = arr[max_idx], arr[i]\n",
    "        max_heapify(arr, max_idx, cmp_func)\n",
    "\n",
    "def cmp_func(a,b): # a>=b : true, else: false -> swap\n",
    "    global cnt_cmp\n",
    "    cnt_cmp += 1\n",
    "    return a>=b\n",
    "\n",
    "\n",
    "array = np.random.randint(1,100, 30)\n",
    "print(array)\n",
    "heap_arr = build_max_heap(array, cmp_func)\n",
    "print(array)\n",
    "print(heap_arr)\n",
    "print(cnt_cmp)"
   ]
  }
 ],
 "metadata": {
  "kernelspec": {
   "display_name": "Python 3",
   "language": "python",
   "name": "python3"
  },
  "language_info": {
   "codemirror_mode": {
    "name": "ipython",
    "version": 3
   },
   "file_extension": ".py",
   "mimetype": "text/x-python",
   "name": "python",
   "nbconvert_exporter": "python",
   "pygments_lexer": "ipython3",
   "version": "3.8.10"
  },
  "orig_nbformat": 4
 },
 "nbformat": 4,
 "nbformat_minor": 2
}
